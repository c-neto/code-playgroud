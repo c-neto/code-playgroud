{
 "cells": [
  {
   "cell_type": "code",
   "execution_count": 1,
   "metadata": {},
   "outputs": [],
   "source": [
    "x = (1,2,3)\n",
    "json = {}\n",
    "aux = None\n",
    "modas = []"
   ]
  },
  {
   "cell_type": "markdown",
   "metadata": {},
   "source": [
    "* ```x``` é o conjunto de dados\n",
    "* ```json``` será necessário para guardar o numero e suas ocorrencias\n",
    "* ```aux``` Variavel que servira para descobrir a maior ocorrencia no conjunto de dados\n",
    "* ```modas``` Vetor que terá os valores da moda(s)"
   ]
  },
  {
   "cell_type": "code",
   "execution_count": 2,
   "metadata": {},
   "outputs": [],
   "source": [
    "for k in set(x):\n",
    "    json[k] = x.count(k)"
   ]
  },
  {
   "cell_type": "markdown",
   "metadata": {},
   "source": [
    "```for k in set(x):``` eliminando dados semelhantes no conjunto\n",
    ">```json[k] = x.count(k)``` Contando as ocorrencias dos respectivos dados do conjunto"
   ]
  },
  {
   "cell_type": "code",
   "execution_count": 3,
   "metadata": {},
   "outputs": [],
   "source": [
    "for k in json:\n",
    "    if aux == None:\n",
    "        aux = json[k]\n",
    "    if json[k] > aux: \n",
    "        aux = json[k]"
   ]
  },
  {
   "cell_type": "markdown",
   "metadata": {},
   "source": [
    "Descobrindo qual o maior numero de ocorrencia"
   ]
  },
  {
   "cell_type": "code",
   "execution_count": 4,
   "metadata": {},
   "outputs": [
    {
     "name": "stdout",
     "output_type": "stream",
     "text": [
      "(1, ' == ', 1)\n",
      "(1, ' == ', 1)\n",
      "(1, ' == ', 1)\n"
     ]
    }
   ],
   "source": [
    "for k in json:\n",
    "    print (json[k], \" == \", aux)\n",
    "    if json[k] == aux:\n",
    "        modas.append(k)"
   ]
  },
  {
   "cell_type": "markdown",
   "metadata": {},
   "source": [
    "Verifica quem numero da lista se enquadra ao numero de ocorrência mais elevado"
   ]
  },
  {
   "cell_type": "code",
   "execution_count": 5,
   "metadata": {},
   "outputs": [
    {
     "name": "stdout",
     "output_type": "stream",
     "text": [
      "Nao há moda\n"
     ]
    },
    {
     "data": {
      "text/plain": [
       "[1, 2, 3]"
      ]
     },
     "execution_count": 5,
     "metadata": {},
     "output_type": "execute_result"
    }
   ],
   "source": [
    "if len(modas)==len(json):\n",
    "        print (\"Nao há moda\")\n",
    "modas"
   ]
  },
  {
   "cell_type": "markdown",
   "metadata": {},
   "source": [
    "Se todos elementos sao moda, quer dizer que nao há moda"
   ]
  }
 ],
 "metadata": {
  "kernelspec": {
   "display_name": "Python 3",
   "language": "python",
   "name": "python3"
  },
  "language_info": {
   "codemirror_mode": {
    "name": "ipython",
    "version": 2
   },
   "file_extension": ".py",
   "mimetype": "text/x-python",
   "name": "python",
   "nbconvert_exporter": "python",
   "pygments_lexer": "ipython2",
   "version": "2.7.13"
  }
 },
 "nbformat": 4,
 "nbformat_minor": 2
}
