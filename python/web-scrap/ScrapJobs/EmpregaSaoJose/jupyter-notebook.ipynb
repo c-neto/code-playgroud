{
 "cells": [
  {
   "cell_type": "markdown",
   "metadata": {},
   "source": [
    "# Bilbiotecas"
   ]
  },
  {
   "cell_type": "code",
   "execution_count": null,
   "metadata": {},
   "outputs": [],
   "source": [
    "import requests"
   ]
  },
  {
   "cell_type": "markdown",
   "metadata": {},
   "source": [
    "Faz uma solicitacao GET ao servidor, para o **download dos conteudos HTML da pagina** solicitada\n"
   ]
  },
  {
   "cell_type": "code",
   "execution_count": null,
   "metadata": {},
   "outputs": [],
   "source": [
    "#import utils as tools "
   ]
  },
  {
   "cell_type": "markdown",
   "metadata": {},
   "source": [
    "Funções criadas pelo desenvolvedor **(eu, Carlos Neto)** para agilizar e otimizar o codigo (contem **calculo de datas tratameto de string)**"
   ]
  },
  {
   "cell_type": "code",
   "execution_count": null,
   "metadata": {},
   "outputs": [],
   "source": [
    "from time import sleep"
   ]
  },
  {
   "cell_type": "markdown",
   "metadata": {},
   "source": [
    "Função _time_ responsável por **pausas de segundos no código**, para evitar DoS de flood de requisao ao site, preservando o funcionamento do memso"
   ]
  },
  {
   "cell_type": "code",
   "execution_count": null,
   "metadata": {},
   "outputs": [],
   "source": [
    "from bs4 import BeautifulSoup "
   ]
  },
  {
   "cell_type": "markdown",
   "metadata": {},
   "source": [
    "Biblioteca para o **parseameto do codigo html**"
   ]
  },
  {
   "cell_type": "code",
   "execution_count": null,
   "metadata": {},
   "outputs": [],
   "source": [
    "import pandas as pd "
   ]
  },
  {
   "cell_type": "markdown",
   "metadata": {},
   "source": [
    "Biblioteca para análise de dados, possibilita no caso, **salvar o Json** preservando a integridade dos dados"
   ]
  },
  {
   "cell_type": "markdown",
   "metadata": {},
   "source": [
    "# Escopo da Classe ScrapEmpregaSjc() \n",
    ">Classe para realizar scrap do site Emprega Sao Jose"
   ]
  },
  {
   "cell_type": "code",
   "execution_count": null,
   "metadata": {},
   "outputs": [],
   "source": [
    "class ScrapEmpregaSjc():\n",
    "    def __init__(self):\n",
    "        self.urlBase = \"https://www.empregasaojosecampos.com\"\n",
    "        self.jobs = {}"
   ]
  },
  {
   "cell_type": "markdown",
   "metadata": {},
   "source": [
    "### Função para instanciar objetos \"soup\", para o reaproveitamento de codigo"
   ]
  },
  {
   "cell_type": "code",
   "execution_count": null,
   "metadata": {},
   "outputs": [],
   "source": [
    "    def make_soup(self, url):\n",
    "        page = requests.get(url)\n",
    "        return BeautifulSoup(page.content, 'html.parser')"
   ]
  },
  {
   "cell_type": "markdown",
   "metadata": {},
   "source": [
    "* <big>**page = requests.get(url)**</big> : Obtem por meio da biblioteca requests o código fonte da página recebendo como parâmetro a URL do site\n",
    "* <big>**return BeautifulSoup(page.content, 'html.parser')**</big> : Retorna uma Instância da biblioteca BeautifulSoup"
   ]
  },
  {
   "cell_type": "markdown",
   "metadata": {},
   "source": [
    "### Escopo do método *empregos_api(self)*\n",
    ">Função responsável por fazer o scrap das páginas"
   ]
  },
  {
   "cell_type": "code",
   "execution_count": null,
   "metadata": {},
   "outputs": [],
   "source": [
    "    def empregos_api(self, url):\n",
    "        soup = self.make_soup(url)\n",
    "        lista_vagas = soup.findAll(\"div\", class_ = \"blog-post\")"
   ]
  },
  {
   "cell_type": "markdown",
   "metadata": {},
   "source": [
    "* <big>**soup = self.make_soup(url)**</big> Instancia um objeto \"soup\" com a url da pagina\n",
    "* <big>**lista_vagas = soup.findAll(\"div\", class_ = \"blog-post\")**</big> Cria uma lista com o codigo que detem os enunciados da pagina"
   ]
  },
  {
   "cell_type": "code",
   "execution_count": null,
   "metadata": {},
   "outputs": [],
   "source": [
    "        k = 0\n",
    "        while( k <= len(lista_vagas[:-1]) ) :\n",
    "            headerVaga = lista_vagas[k].find(\"span\", class_ = \"blog-post-title\") \n",
    "            dadosVaga = lista_vagas[k].find(\"div\", class_ = \"metadata\") \n",
    "            caracteristicas = dadosVaga.findAll(\"span\") \n",
    "            nomeVaga = tools.tratar_nome_vaga(self, headerVaga.getText()) "
   ]
  },
  {
   "cell_type": "markdown",
   "metadata": {},
   "source": [
    "* <big>**k = 0**</big> Contador para navegar entre os indices dos enunciados da pagina\n",
    "* <big>**while(k <= len(lista_vagas[:-1]) ) :**</big>\n",
    ">* <big>**headerVaga = lista_vagas[k].find(\"span\", class_ = \"blog-post-title\")**</big> Filtra apenas os dados respectivos ao titulo da vaga\n",
    ">* <big>**dadosVaga = lista_vagas[k].find(\"div\", class_ = \"metadata\")**</big> Filtra os dados referente ao corpo do enunciado da vaga\n",
    ">* <big>**caracteristicas = dadosVaga.findAll(\"span\")**</big> Faz outro filtro para facilitar a obtencao dos dados que interessam\n",
    ">* <big>**nomeVaga = tools.tratar_nome_vaga(self, headerVaga.getText())**</big> Esta variavel passara por um tratamento\", preservando a consistencia do dado\n"
   ]
  },
  {
   "cell_type": "code",
   "execution_count": null,
   "metadata": {},
   "outputs": [],
   "source": [
    "            self.jobs[nomeVaga] = {\n",
    "                    'local': caracteristicas[2].getText() + ', ' + caracteristicas[3].getText() + ' - ' + caracteristicas[4].getText(),\n",
    "                    'data_vaga':  dadosVaga.find(\"time\", class_ = \"value-title\").getText().strip(),\n",
    "                    'salario': caracteristicas[5].getText(),\n",
    "                    'como_concorrer': headerVaga.find(\"a\").get(\"href\"),\n",
    "                    'mais_info':\n",
    "                        'Nivel Academico: ' + caracteristicas[7].getText()+' - '\n",
    "                        +'Status Vaga:' + caracteristicas[8].getText()\n",
    "                }"
   ]
  },
  {
   "cell_type": "markdown",
   "metadata": {},
   "source": [
    "<big>**Estrutura do .Json**</big>\n",
    "* funcao (Sera o índice da vaga, pelo qual inserimos o nome da vaga)\n",
    "\n",
    ">* local:\n",
    ">>Contém informações como Estado/Cidade \n",
    "ex: (Jacareí, SP)\n",
    "\n",
    ">* data_vaga:\n",
    ">>Detém informações referente ao dia que foi aberto ou divulgado a vaga\n",
    "ex: (23-01-2018)\n",
    "\n",
    ">* salario:\n",
    ">>Contém o salario(evitando casas decimais), caso o enunciado não incluir tal informação, colocar \"combinar\", ex: (1500) para mil quinhentos reais, e, ('combinar') para ausência de informação \n",
    "\n",
    ">* como_concorrer :\n",
    ">>Links, e-mails da empresa\n",
    "\n",
    ">* mais_info\n",
    ">>Campo aberto para o dados geral, \n",
    "ex: (requisitos acadêmicos, vaga efetiva ou temporaria)"
   ]
  },
  {
   "cell_type": "code",
   "execution_count": null,
   "metadata": {},
   "outputs": [],
   "source": [
    "            print (self.jobs[nomeVaga])\n",
    "            pd.DataFrame(self.jobs).to_json('empregaOutput.json')\n",
    "            k += 1\n",
    "            sleep(3)"
   ]
  },
  {
   "cell_type": "markdown",
   "metadata": {},
   "source": [
    "* <big>**print (self.jobs[nomeVaga])**</big> Efeitos de visualizacao somente... (ver no console o progresso da raspagem)\n",
    "* <big>**pd.DataFrame(self.jobs).to_json('empregaOutput.json')**</big> Salvando o resultado em .json\n",
    "* <big>**k += 1**</big> Incrementa o contador\n",
    "* <big>**sleep(3)**</big> Pausa de 3 segundos a cada fim de Scrap, para evitar possível DoS de flood de requisão ao site, preservando o funcionamento do mesmo"
   ]
  },
  {
   "cell_type": "markdown",
   "metadata": {},
   "source": [
    "### Escopo do método *pes_ultimas_vagas(self)*\n",
    ">Função responsável por fazer o scrap das páginas\n",
    "```\n",
    "PADRÃO DE ESTRUTURA DE URL DO SITE:\n",
    "  \n",
    "> Pagina 1(home): \n",
    "https://www.empregasaojosecampos.com/\n",
    "  \n",
    "> Pagina 2:\n",
    "https://www.empregasaojosecampos.com/page/2\n",
    "```\n",
    "\n",
    "O que muda na estrutura é o empregasaojose<big>**/page/NUMERO-DA-PAGINA**</big>"
   ]
  },
  {
   "cell_type": "code",
   "execution_count": null,
   "metadata": {},
   "outputs": [],
   "source": [
    "        pageNumber = 1 \n",
    "        qtd_pagina = 5"
   ]
  },
  {
   "cell_type": "markdown",
   "metadata": {},
   "source": [
    "* <big>**pageNumber = 1**</big> É o responsável por ser o índice que serve como indicador da página que será feito o scrap \n",
    "* <big>**qtd_pagina = 5**</big> Quantidade de pagina que será executado o scrap"
   ]
  },
  {
   "cell_type": "code",
   "execution_count": null,
   "metadata": {},
   "outputs": [],
   "source": [
    "        while (pageNumber <= qtd_pagina):  \n",
    "            if pageNumber == 1:\n",
    "                self.empregos_api(self.urlBase)\n",
    "            else:\n",
    "                self.empregos_api(self.urlBase + \"/page/\" + str(pageNumber) )\n",
    "            pageNumber+=1"
   ]
  },
  {
   "cell_type": "markdown",
   "metadata": {},
   "source": [
    "* <big>**while (pageNumber <= qtd_pagina):** </big> Laço para percorrer as páginas\n",
    "\n",
    ">* <big>**if pageNumber == 1:**</big> Caso for página \"1\", Não necessário a modificação da url\n",
    ">\n",
    ">>*            <big>**self.empregos_api(self.urlBase)**</big> Executa o scrap da \"pagina 1\"\n",
    ">\n",
    ">*            <big>**else:**</big>\n",
    ">\n",
    ">>*                <big>**self.empregos_api(self.urlBase + \"/page/\" + str(pageNumber) )**</big> Faz o scrap modificando a url\n",
    ">\n",
    ">*            <big>**pageNumber+=1**</big> Avança o número da página"
   ]
  },
  {
   "cell_type": "markdown",
   "metadata": {},
   "source": [
    "### Escopo do método *pes_vagas_nome(self)*\n",
    ">Função responsável por fazer o scrap das páginas\n",
    "\n",
    "PADRAO DE URL\n",
    "Pesquisa por: ajudante e operador \n",
    "\n",
    "* ajudante pagina 1:\n",
    "  https://www.empregasaojosecampos.com/?s=ajudante\n",
    "* ajudante pagina 2:\n",
    "  https://www.empregasaojosecampos.com/page/2?s=ajudante\n",
    "            \n",
    "\n",
    "* operador pagina 1: \n",
    "  https://www.empregasaojosecampos.com/?s=operador\n",
    "\n",
    "* operador pagina 2:\n",
    "https://www.empregasaojosecampos.com/page/2?s=operador\n",
    "\n",
    "O que muda na estrutura é:\n",
    "* Para primeira página:   \n",
    "    url-base+ <big>/?s=*nome_da_funcao*/</big>\n",
    "\n",
    "\n",
    "* Para Segunda e demais páginas:\n",
    "    url-base+ <big>/**NumeroDaPagina**?s=*nome_da_funcao*/</big>"
   ]
  },
  {
   "cell_type": "code",
   "execution_count": 1,
   "metadata": {},
   "outputs": [],
   "source": [
    "    def pes_vaga_nome(self, vaga):\n",
    "        pageNumber = 1 \n",
    "        qtd_pagina = 5 \n",
    "\n",
    "        while (pageNumber <= qtd_pagina): \n",
    "            if pageNumber == 1: \n",
    "                self.empregos_api(self.urlBase + \"/?s=\" + vaga)\n",
    "            else:\n",
    "                self.empregos_api(self.urlBase + \"/page/\" + str(pageNumber) + \"?s=\" + vaga)\n",
    "            pageNumber+=1"
   ]
  },
  {
   "cell_type": "markdown",
   "metadata": {},
   "source": [
    "* ```pageNumber = 1``` Contador de pagina\n",
    "* ```qtd_pagina = 5``` Quantidade de paginas que sera feito o scrap\n",
    "\n",
    "* ```while (pageNumber <= qtd_pagina):``` Laço para percoperrrer as paginas\n",
    ">\n",
    ">```if pageNumber == 1:``` Caso for pagina \"1\", tera modificacoes da url diferente com as demais\n",
    ">>```self.empregos_api(self.urlBase + \"/?s=\" + vaga)``` Executa o scrap da \"pagina 1\"\n",
    ">\n",
    ">```else:```\n",
    ">>```self.empregos_api(self.urlBase + \"/page/\" + str(pageNumber) + \"?s=\" + vaga)``` Faz o scrap modificando a url\n",
    ">\n",
    ">```pageNumber+=1``` Avança o número da página"
   ]
  },
  {
   "cell_type": "markdown",
   "metadata": {},
   "source": [
    "# Escopo da *main()* \n",
    ">Metódo de start "
   ]
  },
  {
   "cell_type": "code",
   "execution_count": 2,
   "metadata": {},
   "outputs": [],
   "source": [
    "if __name__ == '__main__':\n",
    "    categorias = ['Ajudante','Analista','Assistente','Atendente','Auxiliar','Balconista','Caixa','Comercial','Coordenador','Copeira','Cozinheiro','Departamento Pessoal','Empilhadeira','Eletricista','Encarregado','Enfermagem','Estoquista','Farmacêutico','Jovem Aprendiz','Mecânico','Manutenção','Motorista','Nutricionista','Produção','Operador','Pedreiro','Secretária','Promotor','Recepcionista','RHServiços Gerais','Telemarketing','Técnico','Vendedor']"
   ]
  }
 ],
 "metadata": {
  "kernelspec": {
   "display_name": "Python 3",
   "language": "python",
   "name": "python3"
  },
  "language_info": {
   "codemirror_mode": {
    "name": "ipython",
    "version": 2
   },
   "file_extension": ".py",
   "mimetype": "text/x-python",
   "name": "python",
   "nbconvert_exporter": "python",
   "pygments_lexer": "ipython2",
   "version": "2.7.13"
  }
 },
 "nbformat": 4,
 "nbformat_minor": 2
}
