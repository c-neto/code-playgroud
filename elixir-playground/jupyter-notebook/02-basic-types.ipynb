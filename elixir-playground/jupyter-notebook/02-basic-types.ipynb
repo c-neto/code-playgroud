{
 "cells": [
  {
   "cell_type": "markdown",
   "metadata": {},
   "source": [
    "# 02 - Tipos Básicos"
   ]
  },
  {
   "cell_type": "markdown",
   "metadata": {},
   "source": [
    "Neste Notebook, será abordado os tipos básicos da linguagem Elixir. Será apresentado os tipos e suas correspondentes operações aritméticas simples. Também será explorado algumas funções de operação/processamento dos tipos básicos, utilizando as bibliotecas padrões (*built-in*) `Kernel` e `Elixir`.\n",
    "\n",
    "Elixir tem os os seguintes tipos básicos:\n",
    "\n",
    "Tipos             | Valor de Exemplo\n",
    ":---:             | :---:\n",
    "**float**         | `-0.1`, `1.0e-1`\n",
    "**integer**       | `10`, `0xA`, `0o10`, `0b1010`\n",
    "**boolean**       | `true`, `false`, `:true`, `:false`\n",
    "**atom/symbol**   | `:atom`, `:carlos`, `:neto`, `:foo`, `:bar`\n",
    "**string**        | `\"elixir\"`\n",
    "**char**          | `'e'`, `'l'`, `'i'`, `'x'`, `'i'`, `'r'`\n",
    "**list**          | `[1, \"carlos\"]`, `['carlos', :carlos, true]`, `'list-of-chars'`\n",
    "**tuple**         | `{1, 2, 3}`\n",
    "\n",
    "\n",
    "As subseções deste notebook, abordarão primeiramente, os tipos citados."
   ]
  },
  {
   "cell_type": "markdown",
   "metadata": {},
   "source": [
    "## 1. Float"
   ]
  },
  {
   "cell_type": "markdown",
   "metadata": {},
   "source": [
    "**Observação**: Não há representação Binária, Octal e Hexadecimal para números decimais com ponto flutuante"
   ]
  },
  {
   "cell_type": "markdown",
   "metadata": {},
   "source": [
    "* Notação Decimal"
   ]
  },
  {
   "cell_type": "code",
   "execution_count": 1,
   "metadata": {},
   "outputs": [
    {
     "name": "stdout",
     "output_type": "stream",
     "text": [
      "Term\n",
      "  10.1\n",
      "Data type\n",
      "  Float\n",
      "Reference modules\n",
      "  Float\n",
      "Implemented protocols\n",
      "  Ecto.DataType, IEx.Info, Inspect, List.Chars, Poison.Decoder, Poison.Encoder, String.Chars\n"
     ]
    }
   ],
   "source": [
    "i 10.10"
   ]
  },
  {
   "cell_type": "markdown",
   "metadata": {},
   "source": [
    "* Notação Cietifica"
   ]
  },
  {
   "cell_type": "code",
   "execution_count": 2,
   "metadata": {},
   "outputs": [
    {
     "name": "stdout",
     "output_type": "stream",
     "text": [
      "Term\n",
      "  10.0\n",
      "Data type\n",
      "  Float\n",
      "Reference modules\n",
      "  Float\n",
      "Implemented protocols\n",
      "  Ecto.DataType, IEx.Info, Inspect, List.Chars, Poison.Decoder, Poison.Encoder, String.Chars\n"
     ]
    }
   ],
   "source": [
    "i 1.0e1"
   ]
  },
  {
   "cell_type": "code",
   "execution_count": 3,
   "metadata": {},
   "outputs": [
    {
     "name": "stdout",
     "output_type": "stream",
     "text": [
      "Term\n",
      "  0.1\n",
      "Data type\n",
      "  Float\n",
      "Reference modules\n",
      "  Float\n",
      "Implemented protocols\n",
      "  Ecto.DataType, IEx.Info, Inspect, List.Chars, Poison.Decoder, Poison.Encoder, String.Chars\n"
     ]
    }
   ],
   "source": [
    "i 1.0e-1"
   ]
  },
  {
   "cell_type": "code",
   "execution_count": 4,
   "metadata": {},
   "outputs": [
    {
     "name": "stdout",
     "output_type": "stream",
     "text": [
      "Term\n",
      "  -10.0\n",
      "Data type\n",
      "  Float\n",
      "Reference modules\n",
      "  Float\n",
      "Implemented protocols\n",
      "  Ecto.DataType, IEx.Info, Inspect, List.Chars, Poison.Decoder, Poison.Encoder, String.Chars\n"
     ]
    }
   ],
   "source": [
    "i -1.0e1"
   ]
  },
  {
   "cell_type": "code",
   "execution_count": 5,
   "metadata": {},
   "outputs": [
    {
     "name": "stdout",
     "output_type": "stream",
     "text": [
      "Term\n",
      "  1.0\n",
      "Data type\n",
      "  Float\n",
      "Reference modules\n",
      "  Float\n",
      "Implemented protocols\n",
      "  Ecto.DataType, IEx.Info, Inspect, List.Chars, Poison.Decoder, Poison.Encoder, String.Chars\n"
     ]
    }
   ],
   "source": [
    "i 1.0e0"
   ]
  },
  {
   "cell_type": "markdown",
   "metadata": {},
   "source": [
    "### 1.1. Operações Aritméticas Simples"
   ]
  },
  {
   "cell_type": "code",
   "execution_count": 6,
   "metadata": {},
   "outputs": [
    {
     "data": {
      "text/plain": [
       "0.049999999999998934"
      ]
     },
     "execution_count": 6,
     "metadata": {},
     "output_type": "execute_result"
    }
   ],
   "source": [
    "10.10 - 10.05"
   ]
  },
  {
   "cell_type": "markdown",
   "metadata": {},
   "source": [
    "Se há um operando `float` na expressão, independentemente dos demais, o resultado será um `float`"
   ]
  },
  {
   "cell_type": "code",
   "execution_count": 7,
   "metadata": {},
   "outputs": [
    {
     "data": {
      "text/plain": [
       "22.625"
      ]
     },
     "execution_count": 7,
     "metadata": {},
     "output_type": "execute_result"
    }
   ],
   "source": [
    "10.1 * 10 / 0o10 + 0xA"
   ]
  },
  {
   "cell_type": "markdown",
   "metadata": {},
   "source": [
    "O operador de Divisão `/`, retorna sempre um `float`"
   ]
  },
  {
   "cell_type": "code",
   "execution_count": 8,
   "metadata": {},
   "outputs": [
    {
     "data": {
      "text/plain": [
       "1.0"
      ]
     },
     "execution_count": 8,
     "metadata": {},
     "output_type": "execute_result"
    }
   ],
   "source": [
    "10 / 10"
   ]
  },
  {
   "cell_type": "markdown",
   "metadata": {},
   "source": [
    "É possível fazer operações aritméticas simples com números em qualquer representação númerica"
   ]
  },
  {
   "cell_type": "code",
   "execution_count": 9,
   "metadata": {},
   "outputs": [
    {
     "data": {
      "text/plain": [
       "0.09999999999999964"
      ]
     },
     "execution_count": 9,
     "metadata": {},
     "output_type": "execute_result"
    }
   ],
   "source": [
    "10.10 - 1.0e+1"
   ]
  },
  {
   "cell_type": "code",
   "execution_count": 1,
   "metadata": {},
   "outputs": [
    {
     "data": {
      "text/plain": [
       "{6661.0, \"\"}"
      ]
     },
     "execution_count": 1,
     "metadata": {},
     "output_type": "execute_result"
    }
   ],
   "source": [
    "Float.parse(\"6661\")"
   ]
  },
  {
   "cell_type": "code",
   "execution_count": 2,
   "metadata": {},
   "outputs": [
    {
     "data": {
      "text/plain": [
       "1.56001"
      ]
     },
     "execution_count": 2,
     "metadata": {},
     "output_type": "execute_result"
    }
   ],
   "source": [
    "Float.ceil(1.56, 5)"
   ]
  },
  {
   "cell_type": "code",
   "execution_count": 5,
   "metadata": {},
   "outputs": [
    {
     "data": {
      "text/plain": [
       "'123.6661'"
      ]
     },
     "execution_count": 5,
     "metadata": {},
     "output_type": "execute_result"
    }
   ],
   "source": [
    "Float.to_charlist(123.6661)"
   ]
  },
  {
   "cell_type": "code",
   "execution_count": 7,
   "metadata": {},
   "outputs": [
    {
     "data": {
      "text/plain": [
       "{1, 1}"
      ]
     },
     "execution_count": 7,
     "metadata": {},
     "output_type": "execute_result"
    }
   ],
   "source": [
    "Float.ratio(1.0)"
   ]
  },
  {
   "cell_type": "code",
   "execution_count": 8,
   "metadata": {},
   "outputs": [
    {
     "data": {
      "text/plain": [
       "{3, 2}"
      ]
     },
     "execution_count": 8,
     "metadata": {},
     "output_type": "execute_result"
    }
   ],
   "source": [
    "Float.ratio(1.5)"
   ]
  },
  {
   "cell_type": "code",
   "execution_count": 10,
   "metadata": {},
   "outputs": [
    {
     "data": {
      "text/plain": [
       "{5, 2}"
      ]
     },
     "execution_count": 10,
     "metadata": {},
     "output_type": "execute_result"
    }
   ],
   "source": [
    "Float.ratio(2.5)"
   ]
  },
  {
   "cell_type": "code",
   "execution_count": 11,
   "metadata": {},
   "outputs": [
    {
     "data": {
      "text/plain": [
       "\"1.123\""
      ]
     },
     "execution_count": 11,
     "metadata": {},
     "output_type": "execute_result"
    }
   ],
   "source": [
    "Float.to_string(1.123)"
   ]
  },
  {
   "cell_type": "code",
   "execution_count": 38,
   "metadata": {},
   "outputs": [
    {
     "data": {
      "text/plain": [
       "1.0"
      ]
     },
     "execution_count": 38,
     "metadata": {},
     "output_type": "execute_result"
    }
   ],
   "source": [
    "Float.floor(1.6)"
   ]
  },
  {
   "cell_type": "code",
   "execution_count": 30,
   "metadata": {},
   "outputs": [
    {
     "data": {
      "text/plain": [
       "1.0"
      ]
     },
     "execution_count": 30,
     "metadata": {},
     "output_type": "execute_result"
    }
   ],
   "source": [
    "Float.floor(1.6, 0)"
   ]
  },
  {
   "cell_type": "code",
   "execution_count": 25,
   "metadata": {},
   "outputs": [
    {
     "data": {
      "text/plain": [
       "1.6"
      ]
     },
     "execution_count": 25,
     "metadata": {},
     "output_type": "execute_result"
    }
   ],
   "source": [
    "Float.floor(1.6, 1)"
   ]
  },
  {
   "cell_type": "code",
   "execution_count": 47,
   "metadata": {},
   "outputs": [
    {
     "data": {
      "text/plain": [
       "2.0"
      ]
     },
     "execution_count": 47,
     "metadata": {},
     "output_type": "execute_result"
    }
   ],
   "source": [
    "Float.round(1.5)"
   ]
  },
  {
   "cell_type": "code",
   "execution_count": 48,
   "metadata": {},
   "outputs": [
    {
     "data": {
      "text/plain": [
       "2.0"
      ]
     },
     "execution_count": 48,
     "metadata": {},
     "output_type": "execute_result"
    }
   ],
   "source": [
    "Float.round(1.6)"
   ]
  },
  {
   "cell_type": "code",
   "execution_count": 50,
   "metadata": {},
   "outputs": [
    {
     "data": {
      "text/plain": [
       "1.59"
      ]
     },
     "execution_count": 50,
     "metadata": {},
     "output_type": "execute_result"
    }
   ],
   "source": [
    "Float.round(1.59, 4)"
   ]
  },
  {
   "cell_type": "code",
   "execution_count": 54,
   "metadata": {},
   "outputs": [
    {
     "data": {
      "text/plain": [
       "1.5991"
      ]
     },
     "execution_count": 54,
     "metadata": {},
     "output_type": "execute_result"
    }
   ],
   "source": [
    "Float.round(1.59908, 4)"
   ]
  },
  {
   "cell_type": "code",
   "execution_count": 63,
   "metadata": {},
   "outputs": [
    {
     "name": "stdout",
     "output_type": "stream",
     "text": [
      "Term\n",
      "  1\n",
      "Data type\n",
      "  Integer\n",
      "Reference modules\n",
      "  Integer\n",
      "Implemented protocols\n",
      "  Ecto.DataType, IEx.Info, Inspect, List.Chars, Poison.Decoder, Poison.Encoder, String.Chars\n"
     ]
    }
   ],
   "source": [
    "i Kernel.round(1.4)"
   ]
  },
  {
   "cell_type": "code",
   "execution_count": 64,
   "metadata": {},
   "outputs": [
    {
     "name": "stdout",
     "output_type": "stream",
     "text": [
      "Term\n",
      "  2\n",
      "Data type\n",
      "  Integer\n",
      "Reference modules\n",
      "  Integer\n",
      "Implemented protocols\n",
      "  Ecto.DataType, IEx.Info, Inspect, List.Chars, Poison.Decoder, Poison.Encoder, String.Chars\n"
     ]
    }
   ],
   "source": [
    "i Kernel.round(1.5)"
   ]
  },
  {
   "cell_type": "code",
   "execution_count": 62,
   "metadata": {},
   "outputs": [
    {
     "name": "stdout",
     "output_type": "stream",
     "text": [
      "Term\n",
      "  1\n",
      "Data type\n",
      "  Integer\n",
      "Reference modules\n",
      "  Integer\n",
      "Implemented protocols\n",
      "  Ecto.DataType, IEx.Info, Inspect, List.Chars, Poison.Decoder, Poison.Encoder, String.Chars\n"
     ]
    }
   ],
   "source": [
    "i Kernel.trunc(1.4)"
   ]
  },
  {
   "cell_type": "code",
   "execution_count": 65,
   "metadata": {},
   "outputs": [
    {
     "name": "stdout",
     "output_type": "stream",
     "text": [
      "Term\n",
      "  1\n",
      "Data type\n",
      "  Integer\n",
      "Reference modules\n",
      "  Integer\n",
      "Implemented protocols\n",
      "  Ecto.DataType, IEx.Info, Inspect, List.Chars, Poison.Decoder, Poison.Encoder, String.Chars\n"
     ]
    }
   ],
   "source": [
    "i Kernel.trunc(1.5)"
   ]
  },
  {
   "cell_type": "markdown",
   "metadata": {},
   "source": [
    "## 2. Integer"
   ]
  },
  {
   "cell_type": "markdown",
   "metadata": {},
   "source": [
    "- Representação Decimal"
   ]
  },
  {
   "cell_type": "code",
   "execution_count": 10,
   "metadata": {
    "scrolled": true
   },
   "outputs": [
    {
     "name": "stdout",
     "output_type": "stream",
     "text": [
      "Term\n",
      "  1\n",
      "Data type\n",
      "  Integer\n",
      "Reference modules\n",
      "  Integer\n",
      "Implemented protocols\n",
      "  Ecto.DataType, IEx.Info, Inspect, List.Chars, Poison.Decoder, Poison.Encoder, String.Chars\n"
     ]
    }
   ],
   "source": [
    "i 1"
   ]
  },
  {
   "cell_type": "markdown",
   "metadata": {},
   "source": [
    "* Representação Hexadecimal"
   ]
  },
  {
   "cell_type": "code",
   "execution_count": 11,
   "metadata": {},
   "outputs": [
    {
     "name": "stdout",
     "output_type": "stream",
     "text": [
      "Term\n",
      "  31\n",
      "Data type\n",
      "  Integer\n",
      "Reference modules\n",
      "  Integer\n",
      "Implemented protocols\n",
      "  Ecto.DataType, IEx.Info, Inspect, List.Chars, Poison.Decoder, Poison.Encoder, String.Chars\n"
     ]
    }
   ],
   "source": [
    "i 0x1F"
   ]
  },
  {
   "cell_type": "markdown",
   "metadata": {},
   "source": [
    "* Representação Octal"
   ]
  },
  {
   "cell_type": "code",
   "execution_count": 12,
   "metadata": {},
   "outputs": [
    {
     "name": "stdout",
     "output_type": "stream",
     "text": [
      "Term\n",
      "  8\n",
      "Data type\n",
      "  Integer\n",
      "Reference modules\n",
      "  Integer\n",
      "Implemented protocols\n",
      "  Ecto.DataType, IEx.Info, Inspect, List.Chars, Poison.Decoder, Poison.Encoder, String.Chars\n"
     ]
    }
   ],
   "source": [
    "i 0o10"
   ]
  },
  {
   "cell_type": "markdown",
   "metadata": {},
   "source": [
    "* Representação Binária"
   ]
  },
  {
   "cell_type": "code",
   "execution_count": 13,
   "metadata": {},
   "outputs": [
    {
     "name": "stdout",
     "output_type": "stream",
     "text": [
      "Term\n",
      "  10\n",
      "Data type\n",
      "  Integer\n",
      "Reference modules\n",
      "  Integer\n",
      "Implemented protocols\n",
      "  Ecto.DataType, IEx.Info, Inspect, List.Chars, Poison.Decoder, Poison.Encoder, String.Chars\n"
     ]
    }
   ],
   "source": [
    "i 0b1010"
   ]
  },
  {
   "cell_type": "markdown",
   "metadata": {},
   "source": [
    "### 2.1. Operações Aritméticas Simples"
   ]
  },
  {
   "cell_type": "markdown",
   "metadata": {},
   "source": [
    "Assim como tipo de representação de dados numéricos `float`, é possível fazer operações aritméticas simples com números em qualquer representação númerica"
   ]
  },
  {
   "cell_type": "code",
   "execution_count": 14,
   "metadata": {},
   "outputs": [
    {
     "data": {
      "text/plain": [
       "40"
      ]
     },
     "execution_count": 14,
     "metadata": {},
     "output_type": "execute_result"
    }
   ],
   "source": [
    "0o12 + 10 + 0xA + 0b1010"
   ]
  },
  {
   "cell_type": "markdown",
   "metadata": {},
   "source": [
    "**Observação**: Atentar-se com a operação feita. Pode ser que a mesma o retorne um valor do tipo `float`, mesmo que os operandos sejam inteiros"
   ]
  },
  {
   "cell_type": "code",
   "execution_count": 15,
   "metadata": {},
   "outputs": [
    {
     "data": {
      "text/plain": [
       "5.0"
      ]
     },
     "execution_count": 15,
     "metadata": {},
     "output_type": "execute_result"
    }
   ],
   "source": [
    "10 / 2"
   ]
  },
  {
   "cell_type": "code",
   "execution_count": 16,
   "metadata": {},
   "outputs": [
    {
     "data": {
      "text/plain": [
       "11.0"
      ]
     },
     "execution_count": 16,
     "metadata": {},
     "output_type": "execute_result"
    }
   ],
   "source": [
    "10 + 1.0"
   ]
  },
  {
   "cell_type": "markdown",
   "metadata": {},
   "source": [
    "### 2.2. Operações com a biblioteca padrão"
   ]
  },
  {
   "cell_type": "code",
   "execution_count": 70,
   "metadata": {},
   "outputs": [
    {
     "name": "stdout",
     "output_type": "stream",
     "text": [
      "\n",
      "                        def digits(integer, base \\\\ 10)\n",
      "\n",
      "  @spec digits(integer(), pos_integer()) :: [integer(), ...]\n",
      "\n",
      "Returns the ordered digits for the given `integer`.\n",
      "\n",
      "An optional `base` value may be provided representing the radix for the\n",
      "returned digits. This one must be an integer >= 2.\n",
      "\n",
      "## Examples\n",
      "\n",
      "    iex> Integer.digits(123)\n",
      "    [1, 2, 3]\n",
      "    \n",
      "    iex> Integer.digits(170, 2)\n",
      "    [1, 0, 1, 0, 1, 0, 1, 0]\n",
      "    \n",
      "    iex> Integer.digits(-170, 2)\n",
      "    [-1, 0, -1, 0, -1, 0, -1, 0]\n",
      "\n"
     ]
    }
   ],
   "source": [
    "h Integer.digits"
   ]
  },
  {
   "cell_type": "code",
   "execution_count": 66,
   "metadata": {},
   "outputs": [
    {
     "data": {
      "text/plain": [
       "[2, 3, 0, 9, 9, 7]"
      ]
     },
     "execution_count": 66,
     "metadata": {},
     "output_type": "execute_result"
    }
   ],
   "source": [
    "Integer.digits(230997)"
   ]
  },
  {
   "cell_type": "code",
   "execution_count": 68,
   "metadata": {},
   "outputs": [
    {
     "data": {
      "text/plain": [
       "[1, 2]"
      ]
     },
     "execution_count": 68,
     "metadata": {},
     "output_type": "execute_result"
    }
   ],
   "source": [
    "Integer.digits(10, 8)"
   ]
  },
  {
   "cell_type": "code",
   "execution_count": 71,
   "metadata": {},
   "outputs": [
    {
     "name": "stdout",
     "output_type": "stream",
     "text": [
      "\n",
      "                         def parse(binary, base \\\\ 10)\n",
      "\n",
      "  @spec parse(binary(), 2..36) :: {integer(), binary()} | :error\n",
      "\n",
      "Parses a text representation of an integer.\n",
      "\n",
      "An optional `base` to the corresponding integer can be provided. If `base` is\n",
      "not given, 10 will be used.\n",
      "\n",
      "If successful, returns a tuple in the form of `{integer, remainder_of_binary}`.\n",
      "Otherwise `:error`.\n",
      "\n",
      "Raises an error if `base` is less than 2 or more than 36.\n",
      "\n",
      "If you want to convert a string-formatted integer directly to an integer,\n",
      "`String.to_integer/1` or `String.to_integer/2` can be used instead.\n",
      "\n",
      "## Examples\n",
      "\n",
      "    iex> Integer.parse(\"34\")\n",
      "    {34, \"\"}\n",
      "    \n",
      "    iex> Integer.parse(\"34.5\")\n",
      "    {34, \".5\"}\n",
      "    \n",
      "    iex> Integer.parse(\"three\")\n",
      "    :error\n",
      "    \n",
      "    iex> Integer.parse(\"34\", 10)\n",
      "    {34, \"\"}\n",
      "    \n",
      "    iex> Integer.parse(\"f4\", 16)\n",
      "    {244, \"\"}\n",
      "    \n",
      "    iex> Integer.parse(\"Awww++\", 36)\n",
      "    {509216, \"++\"}\n",
      "    \n",
      "    iex> Integer.parse(\"fab\", 10)\n",
      "    :error\n",
      "    \n",
      "    iex> Integer.parse(\"a2\", 38)\n",
      "    ** (ArgumentError) invalid base 38\n",
      "\n"
     ]
    }
   ],
   "source": [
    "h Integer.parse"
   ]
  },
  {
   "cell_type": "code",
   "execution_count": 72,
   "metadata": {},
   "outputs": [
    {
     "data": {
      "text/plain": [
       "{10, \"\"}"
      ]
     },
     "execution_count": 72,
     "metadata": {},
     "output_type": "execute_result"
    }
   ],
   "source": [
    "Integer.parse(\"10\", 10)"
   ]
  },
  {
   "cell_type": "code",
   "execution_count": 74,
   "metadata": {},
   "outputs": [
    {
     "data": {
      "text/plain": [
       "{15, \"\"}"
      ]
     },
     "execution_count": 74,
     "metadata": {},
     "output_type": "execute_result"
    }
   ],
   "source": [
    "Integer.parse(\"F\", 16)"
   ]
  },
  {
   "cell_type": "code",
   "execution_count": 75,
   "metadata": {},
   "outputs": [
    {
     "data": {
      "text/plain": [
       "{16, \"\"}"
      ]
     },
     "execution_count": 75,
     "metadata": {},
     "output_type": "execute_result"
    }
   ],
   "source": [
    "Integer.parse(\"G\", 17)"
   ]
  },
  {
   "cell_type": "code",
   "execution_count": 78,
   "metadata": {},
   "outputs": [
    {
     "data": {
      "text/plain": [
       "{3, \".14\"}"
      ]
     },
     "execution_count": 78,
     "metadata": {},
     "output_type": "execute_result"
    }
   ],
   "source": [
    "Integer.parse(\"3.14\", 10)"
   ]
  },
  {
   "cell_type": "code",
   "execution_count": 79,
   "metadata": {},
   "outputs": [
    {
     "name": "stdout",
     "output_type": "stream",
     "text": [
      "\n",
      "                        def digits(integer, base \\\\ 10)\n",
      "\n",
      "  @spec digits(integer(), pos_integer()) :: [integer(), ...]\n",
      "\n",
      "Returns the ordered digits for the given `integer`.\n",
      "\n",
      "An optional `base` value may be provided representing the radix for the\n",
      "returned digits. This one must be an integer >= 2.\n",
      "\n",
      "## Examples\n",
      "\n",
      "    iex> Integer.digits(123)\n",
      "    [1, 2, 3]\n",
      "    \n",
      "    iex> Integer.digits(170, 2)\n",
      "    [1, 0, 1, 0, 1, 0, 1, 0]\n",
      "    \n",
      "    iex> Integer.digits(-170, 2)\n",
      "    [-1, 0, -1, 0, -1, 0, -1, 0]\n",
      "\n"
     ]
    }
   ],
   "source": [
    "h Integer.digits"
   ]
  },
  {
   "cell_type": "code",
   "execution_count": 69,
   "metadata": {},
   "outputs": [
    {
     "data": {
      "text/plain": [
       "[1, 0]"
      ]
     },
     "execution_count": 69,
     "metadata": {},
     "output_type": "execute_result"
    }
   ],
   "source": [
    "Integer.digits(10, 10)"
   ]
  },
  {
   "cell_type": "code",
   "execution_count": 83,
   "metadata": {},
   "outputs": [
    {
     "data": {
      "text/plain": [
       "[-1, 0, -1, 0]"
      ]
     },
     "execution_count": 83,
     "metadata": {},
     "output_type": "execute_result"
    }
   ],
   "source": [
    "Integer.digits -10, 2"
   ]
  },
  {
   "cell_type": "code",
   "execution_count": 86,
   "metadata": {},
   "outputs": [
    {
     "name": "stdout",
     "output_type": "stream",
     "text": [
      "\n",
      "                            defmacro is_odd(integer)\n",
      "\n",
      "guard: true\n",
      "\n",
      "Determines if `integer` is odd.\n",
      "\n",
      "Returns `true` if the given `integer` is an odd number, otherwise it returns\n",
      "`false`.\n",
      "\n",
      "Allowed in guard clauses.\n",
      "\n",
      "## Examples\n",
      "\n",
      "    iex> Integer.is_odd(5)\n",
      "    true\n",
      "    \n",
      "    iex> Integer.is_odd(6)\n",
      "    false\n",
      "    \n",
      "    iex> Integer.is_odd(-5)\n",
      "    true\n",
      "    \n",
      "    iex> Integer.is_odd(0)\n",
      "    false\n",
      "\n"
     ]
    }
   ],
   "source": [
    "h Integer.is_odd"
   ]
  },
  {
   "cell_type": "code",
   "execution_count": 84,
   "metadata": {},
   "outputs": [
    {
     "data": {
      "text/plain": [
       "Integer"
      ]
     },
     "execution_count": 84,
     "metadata": {},
     "output_type": "execute_result"
    }
   ],
   "source": [
    "import Integer"
   ]
  },
  {
   "cell_type": "code",
   "execution_count": 87,
   "metadata": {},
   "outputs": [
    {
     "data": {
      "text/plain": [
       "true"
      ]
     },
     "execution_count": 87,
     "metadata": {},
     "output_type": "execute_result"
    }
   ],
   "source": [
    "Integer.is_odd(5)"
   ]
  },
  {
   "cell_type": "code",
   "execution_count": 99,
   "metadata": {},
   "outputs": [
    {
     "name": "stdout",
     "output_type": "stream",
     "text": [
      "true\n",
      "false\n",
      "true\n",
      "false\n",
      "true\n"
     ]
    },
    {
     "data": {
      "text/plain": [
       ":ok"
      ]
     },
     "execution_count": 99,
     "metadata": {},
     "output_type": "execute_result"
    }
   ],
   "source": [
    "Enum.each([1, 2, 3, 4, 5], fn(x) -> IO.puts(Integer.is_odd(x)) end)"
   ]
  },
  {
   "cell_type": "code",
   "execution_count": 101,
   "metadata": {},
   "outputs": [
    {
     "name": "stdout",
     "output_type": "stream",
     "text": [
      "\n",
      "                           defmacro is_even(integer)\n",
      "\n",
      "guard: true\n",
      "\n",
      "Determines if an `integer` is even.\n",
      "\n",
      "Returns `true` if the given `integer` is an even number, otherwise it returns\n",
      "`false`.\n",
      "\n",
      "Allowed in guard clauses.\n",
      "\n",
      "## Examples\n",
      "\n",
      "    iex> Integer.is_even(10)\n",
      "    true\n",
      "    \n",
      "    iex> Integer.is_even(5)\n",
      "    false\n",
      "    \n",
      "    iex> Integer.is_even(-10)\n",
      "    true\n",
      "    \n",
      "    iex> Integer.is_even(0)\n",
      "    true\n",
      "\n"
     ]
    }
   ],
   "source": [
    "h Integer.is_even"
   ]
  },
  {
   "cell_type": "code",
   "execution_count": 98,
   "metadata": {},
   "outputs": [
    {
     "data": {
      "text/plain": [
       "false"
      ]
     },
     "execution_count": 98,
     "metadata": {},
     "output_type": "execute_result"
    }
   ],
   "source": [
    "Integer.is_even(5)"
   ]
  },
  {
   "cell_type": "code",
   "execution_count": 100,
   "metadata": {},
   "outputs": [
    {
     "name": "stdout",
     "output_type": "stream",
     "text": [
      "false\n",
      "true\n",
      "false\n",
      "true\n",
      "false\n"
     ]
    },
    {
     "data": {
      "text/plain": [
       ":ok"
      ]
     },
     "execution_count": 100,
     "metadata": {},
     "output_type": "execute_result"
    }
   ],
   "source": [
    "Enum.each([1, 2, 3, 4, 5], fn(x) -> IO.puts(Integer.is_even(x)) end)"
   ]
  },
  {
   "cell_type": "markdown",
   "metadata": {},
   "source": [
    "## 3. Booleano "
   ]
  },
  {
   "cell_type": "code",
   "execution_count": 17,
   "metadata": {},
   "outputs": [
    {
     "name": "stdout",
     "output_type": "stream",
     "text": [
      "Term\n",
      "  true\n",
      "Data type\n",
      "  Atom\n",
      "Reference modules\n",
      "  Atom\n",
      "Implemented protocols\n",
      "  Ecto.DataType, Ecto.Queryable, IEx.Info, Inspect, List.Chars, Poison.Decoder, Poison.Encoder, String.Chars\n"
     ]
    }
   ],
   "source": [
    "i true"
   ]
  },
  {
   "cell_type": "code",
   "execution_count": 18,
   "metadata": {},
   "outputs": [
    {
     "name": "stdout",
     "output_type": "stream",
     "text": [
      "Term\n",
      "  false\n",
      "Data type\n",
      "  Atom\n",
      "Reference modules\n",
      "  Atom\n",
      "Implemented protocols\n",
      "  Ecto.DataType, Ecto.Queryable, IEx.Info, Inspect, List.Chars, Poison.Decoder, Poison.Encoder, String.Chars\n"
     ]
    }
   ],
   "source": [
    "i false"
   ]
  },
  {
   "cell_type": "code",
   "execution_count": 19,
   "metadata": {},
   "outputs": [
    {
     "name": "stdout",
     "output_type": "stream",
     "text": [
      "Term\n",
      "  true\n",
      "Data type\n",
      "  Atom\n",
      "Reference modules\n",
      "  Atom\n",
      "Implemented protocols\n",
      "  Ecto.DataType, Ecto.Queryable, IEx.Info, Inspect, List.Chars, Poison.Decoder, Poison.Encoder, String.Chars\n"
     ]
    }
   ],
   "source": [
    "i :true"
   ]
  },
  {
   "cell_type": "code",
   "execution_count": 20,
   "metadata": {},
   "outputs": [
    {
     "name": "stdout",
     "output_type": "stream",
     "text": [
      "Term\n",
      "  false\n",
      "Data type\n",
      "  Atom\n",
      "Reference modules\n",
      "  Atom\n",
      "Implemented protocols\n",
      "  Ecto.DataType, Ecto.Queryable, IEx.Info, Inspect, List.Chars, Poison.Decoder, Poison.Encoder, String.Chars\n"
     ]
    }
   ],
   "source": [
    "i :false"
   ]
  },
  {
   "cell_type": "code",
   "execution_count": 21,
   "metadata": {},
   "outputs": [
    {
     "data": {
      "text/plain": [
       "false"
      ]
     },
     "execution_count": 21,
     "metadata": {},
     "output_type": "execute_result"
    }
   ],
   "source": [
    "True == true"
   ]
  },
  {
   "cell_type": "code",
   "execution_count": 22,
   "metadata": {},
   "outputs": [
    {
     "data": {
      "text/plain": [
       "false"
      ]
     },
     "execution_count": 22,
     "metadata": {},
     "output_type": "execute_result"
    }
   ],
   "source": [
    "True === true"
   ]
  },
  {
   "cell_type": "code",
   "execution_count": 23,
   "metadata": {},
   "outputs": [
    {
     "data": {
      "text/plain": [
       "false"
      ]
     },
     "execution_count": 23,
     "metadata": {},
     "output_type": "execute_result"
    }
   ],
   "source": [
    "False == false"
   ]
  },
  {
   "cell_type": "code",
   "execution_count": 24,
   "metadata": {},
   "outputs": [
    {
     "data": {
      "text/plain": [
       "false"
      ]
     },
     "execution_count": 24,
     "metadata": {},
     "output_type": "execute_result"
    }
   ],
   "source": [
    "False === false"
   ]
  },
  {
   "cell_type": "markdown",
   "metadata": {},
   "source": [
    "## 4. Átomos/*Symbols*"
   ]
  },
  {
   "cell_type": "markdown",
   "metadata": {},
   "source": [
    "Átomos são valores constantes, em que o nome dado a declaração, também define o seu valor. Útil em casos de enumeração, e definição de valores constantes"
   ]
  },
  {
   "cell_type": "code",
   "execution_count": 25,
   "metadata": {},
   "outputs": [
    {
     "name": "stdout",
     "output_type": "stream",
     "text": [
      "Term\n",
      "  :atom\n",
      "Data type\n",
      "  Atom\n",
      "Reference modules\n",
      "  Atom\n",
      "Implemented protocols\n",
      "  Ecto.DataType, Ecto.Queryable, IEx.Info, Inspect, List.Chars, Poison.Decoder, Poison.Encoder, String.Chars\n"
     ]
    }
   ],
   "source": [
    "i :atom"
   ]
  },
  {
   "cell_type": "code",
   "execution_count": 26,
   "metadata": {},
   "outputs": [
    {
     "name": "stdout",
     "output_type": "stream",
     "text": [
      "Term\n",
      "  :foo\n",
      "Data type\n",
      "  Atom\n",
      "Reference modules\n",
      "  Atom\n",
      "Implemented protocols\n",
      "  Ecto.DataType, Ecto.Queryable, IEx.Info, Inspect, List.Chars, Poison.Decoder, Poison.Encoder, String.Chars\n"
     ]
    }
   ],
   "source": [
    "i :foo"
   ]
  },
  {
   "cell_type": "code",
   "execution_count": 27,
   "metadata": {},
   "outputs": [
    {
     "name": "stdout",
     "output_type": "stream",
     "text": [
      "Term\n",
      "  :bar\n",
      "Data type\n",
      "  Atom\n",
      "Reference modules\n",
      "  Atom\n",
      "Implemented protocols\n",
      "  Ecto.DataType, Ecto.Queryable, IEx.Info, Inspect, List.Chars, Poison.Decoder, Poison.Encoder, String.Chars\n"
     ]
    }
   ],
   "source": [
    "i :bar"
   ]
  },
  {
   "cell_type": "markdown",
   "metadata": {},
   "source": [
    "Valores com primeira letra maiúscula, é compreendido como um `atom`"
   ]
  },
  {
   "cell_type": "code",
   "execution_count": 28,
   "metadata": {},
   "outputs": [
    {
     "name": "stdout",
     "output_type": "stream",
     "text": [
      "Term\n",
      "  Atom\n",
      "Data type\n",
      "  Atom\n",
      "Module bytecode\n",
      "  /opt/elixir/bin/../lib/elixir/ebin/Elixir.Atom.beam\n",
      "Source\n",
      "  /Users/jose/OSS/elixir/lib/elixir/lib/atom.ex\n",
      "Version\n",
      "  [90914953763975185007137168388757581702]\n",
      "Compile options\n",
      "  [:dialyzer, :no_spawn_compiler_process, :from_core, :no_core_prepare, :no_auto_import]\n",
      "Description\n",
      "  Use h(Atom) to access its documentation.\n",
      "  Call Atom.module_info() to access metadata.\n",
      "Raw representation\n",
      "  :\"Elixir.Atom\"\n",
      "Reference modules\n",
      "  Module, Atom\n",
      "Implemented protocols\n",
      "  Ecto.DataType, Ecto.Queryable, IEx.Info, Inspect, List.Chars, Poison.Decoder, Poison.Encoder, String.Chars\n"
     ]
    }
   ],
   "source": [
    "i Atom"
   ]
  },
  {
   "cell_type": "code",
   "execution_count": 29,
   "metadata": {},
   "outputs": [
    {
     "name": "stdout",
     "output_type": "stream",
     "text": [
      "Term\n",
      "  CarlosNeto\n",
      "Data type\n",
      "  Atom\n",
      "Raw representation\n",
      "  :\"Elixir.CarlosNeto\"\n",
      "Reference modules\n",
      "  Atom\n",
      "Implemented protocols\n",
      "  Ecto.DataType, Ecto.Queryable, IEx.Info, Inspect, List.Chars, Poison.Decoder, Poison.Encoder, String.Chars\n"
     ]
    }
   ],
   "source": [
    "i CarlosNeto"
   ]
  },
  {
   "cell_type": "code",
   "execution_count": 30,
   "metadata": {},
   "outputs": [
    {
     "name": "stdout",
     "output_type": "stream",
     "text": [
      "Term\n",
      "  :\"Carlos Neto Augusto Liks\"\n",
      "Data type\n",
      "  Atom\n",
      "Reference modules\n",
      "  Atom\n",
      "Implemented protocols\n",
      "  Ecto.DataType, Ecto.Queryable, IEx.Info, Inspect, List.Chars, Poison.Decoder, Poison.Encoder, String.Chars\n"
     ]
    }
   ],
   "source": [
    "i :\"Carlos Neto Augusto Liks\""
   ]
  },
  {
   "cell_type": "code",
   "execution_count": 31,
   "metadata": {},
   "outputs": [
    {
     "ename": "CompileError",
     "evalue": "1",
     "output_type": "error",
     "traceback": [
      "** (CompileError) console:1 \"undefined function var_atom_upcase_notation/0\""
     ]
    }
   ],
   "source": [
    "is_atom(var_atom_upcase_notation)"
   ]
  },
  {
   "cell_type": "markdown",
   "metadata": {},
   "source": [
    "**Curiosidade**: `boolean` em Elixir, são átomos. O inverso não é verdade, ou seja, `boolean` não é `atom`, excluindo os casos de átomos `:true` e `:false`."
   ]
  },
  {
   "cell_type": "code",
   "execution_count": 31,
   "metadata": {},
   "outputs": [
    {
     "data": {
      "text/plain": [
       "true"
      ]
     },
     "execution_count": 31,
     "metadata": {},
     "output_type": "execute_result"
    }
   ],
   "source": [
    "Kernel.is_atom(false)"
   ]
  },
  {
   "cell_type": "code",
   "execution_count": 32,
   "metadata": {},
   "outputs": [
    {
     "data": {
      "text/plain": [
       "true"
      ]
     },
     "execution_count": 32,
     "metadata": {},
     "output_type": "execute_result"
    }
   ],
   "source": [
    "Kernel.is_atom(true)"
   ]
  },
  {
   "cell_type": "code",
   "execution_count": 33,
   "metadata": {},
   "outputs": [
    {
     "data": {
      "text/plain": [
       "true"
      ]
     },
     "execution_count": 33,
     "metadata": {},
     "output_type": "execute_result"
    }
   ],
   "source": [
    "Kernel.is_boolean(:true)"
   ]
  },
  {
   "cell_type": "code",
   "execution_count": 34,
   "metadata": {},
   "outputs": [
    {
     "data": {
      "text/plain": [
       "true"
      ]
     },
     "execution_count": 34,
     "metadata": {},
     "output_type": "execute_result"
    }
   ],
   "source": [
    "Kernel.is_boolean(:false)"
   ]
  },
  {
   "cell_type": "code",
   "execution_count": 35,
   "metadata": {},
   "outputs": [
    {
     "data": {
      "text/plain": [
       "true"
      ]
     },
     "execution_count": 35,
     "metadata": {},
     "output_type": "execute_result"
    }
   ],
   "source": [
    "Kernel.is_atom(:foo)"
   ]
  },
  {
   "cell_type": "code",
   "execution_count": 36,
   "metadata": {},
   "outputs": [
    {
     "data": {
      "text/plain": [
       "false"
      ]
     },
     "execution_count": 36,
     "metadata": {},
     "output_type": "execute_result"
    }
   ],
   "source": [
    "Kernel.is_boolean(:foo)"
   ]
  },
  {
   "cell_type": "code",
   "execution_count": 37,
   "metadata": {},
   "outputs": [
    {
     "data": {
      "text/plain": [
       "true"
      ]
     },
     "execution_count": 37,
     "metadata": {},
     "output_type": "execute_result"
    }
   ],
   "source": [
    ":true == true"
   ]
  },
  {
   "cell_type": "code",
   "execution_count": 38,
   "metadata": {},
   "outputs": [
    {
     "data": {
      "text/plain": [
       "true"
      ]
     },
     "execution_count": 38,
     "metadata": {},
     "output_type": "execute_result"
    }
   ],
   "source": [
    ":true === true"
   ]
  },
  {
   "cell_type": "markdown",
   "metadata": {},
   "source": [
    "## 5. String"
   ]
  },
  {
   "cell_type": "markdown",
   "metadata": {},
   "source": [
    "`string` em Elixir, são binários representados na codificação UTF-8"
   ]
  },
  {
   "cell_type": "code",
   "execution_count": 39,
   "metadata": {},
   "outputs": [
    {
     "name": "stdout",
     "output_type": "stream",
     "text": [
      "Term\n",
      "  \"carlos neto\"\n",
      "Data type\n",
      "  BitString\n",
      "Byte size\n",
      "  11\n",
      "Description\n",
      "  This is a string: a UTF-8 encoded binary. It's printed surrounded by\n",
      "  \"double quotes\" because all UTF-8 encoded code points in it are printable.\n",
      "Raw representation\n",
      "  <<99, 97, 114, 108, 111, 115, 32, 110, 101, 116, 111>>\n",
      "Reference modules\n",
      "  String, :binary\n",
      "Implemented protocols\n",
      "  Collectable, Ecto.DataType, Ecto.Queryable, IEx.Info, Inspect, List.Chars, Poison.Decoder, Poison.Encoder, String.Chars\n"
     ]
    }
   ],
   "source": [
    "i \"carlos neto\""
   ]
  },
  {
   "cell_type": "code",
   "execution_count": 40,
   "metadata": {},
   "outputs": [
    {
     "name": "stdout",
     "output_type": "stream",
     "text": [
      "Term\n",
      "  \"this is a string with \\\"double quotes\\\"\"\n",
      "Data type\n",
      "  BitString\n",
      "Byte size\n",
      "  37\n",
      "Description\n",
      "  This is a string: a UTF-8 encoded binary. It's printed surrounded by\n",
      "  \"double quotes\" because all UTF-8 encoded code points in it are printable.\n",
      "Raw representation\n",
      "  <<116, 104, 105, 115, 32, 105, 115, 32, 97, 32, 115, 116, 114, 105, 110, 103, 32, 119, 105, 116, 104, 32, 34, 100, 111, 117, 98, 108, 101, 32, 113, 117, 111, 116, 101, 115, 34>>\n",
      "Reference modules\n",
      "  String, :binary\n",
      "Implemented protocols\n",
      "  Collectable, Ecto.DataType, Ecto.Queryable, IEx.Info, Inspect, List.Chars, Poison.Decoder, Poison.Encoder, String.Chars\n"
     ]
    }
   ],
   "source": [
    "i \"this is a string with \\\"double quotes\\\"\""
   ]
  },
  {
   "cell_type": "markdown",
   "metadata": {},
   "source": [
    "* Concatenação"
   ]
  },
  {
   "cell_type": "code",
   "execution_count": 41,
   "metadata": {},
   "outputs": [
    {
     "data": {
      "text/plain": [
       "\"carlos neto AS augusto liks\""
      ]
     },
     "execution_count": 41,
     "metadata": {},
     "output_type": "execute_result"
    }
   ],
   "source": [
    "\"carlos \" <> \"neto \"  <> \"AS \" <> \"augusto \" <> \"liks\""
   ]
  },
  {
   "cell_type": "markdown",
   "metadata": {},
   "source": [
    "* Interpolação"
   ]
  },
  {
   "cell_type": "code",
   "execution_count": 42,
   "metadata": {},
   "outputs": [
    {
     "data": {
      "text/plain": [
       "\"neto\""
      ]
     },
     "execution_count": 42,
     "metadata": {},
     "output_type": "execute_result"
    }
   ],
   "source": [
    "last_name = \"neto\""
   ]
  },
  {
   "cell_type": "code",
   "execution_count": 43,
   "metadata": {},
   "outputs": [
    {
     "data": {
      "text/plain": [
       "\"carlos neto\""
      ]
     },
     "execution_count": 43,
     "metadata": {},
     "output_type": "execute_result"
    }
   ],
   "source": [
    "\"carlos #{last_name}\""
   ]
  },
  {
   "cell_type": "markdown",
   "metadata": {},
   "source": [
    "Qualquer expressão Elixir válida, dentro de um interpolação, será aceita. Isso é possível, pois ao declarar uma interpolação, implicitamente é feito uma chamada para a função `Elixir.String.Chars.to_string`, do qual faz a avaliação/*evaluation* da expressão em questão"
   ]
  },
  {
   "cell_type": "code",
   "execution_count": 44,
   "metadata": {},
   "outputs": [
    {
     "data": {
      "text/plain": [
       "\"20 = 20\""
      ]
     },
     "execution_count": 44,
     "metadata": {},
     "output_type": "execute_result"
    }
   ],
   "source": [
    "\"#{10 + 10} = 20\""
   ]
  },
  {
   "cell_type": "code",
   "execution_count": 45,
   "metadata": {},
   "outputs": [
    {
     "data": {
      "text/plain": [
       "\"20 = 20\""
      ]
     },
     "execution_count": 45,
     "metadata": {},
     "output_type": "execute_result"
    }
   ],
   "source": [
    "\"#{10 + 10} = #{15 + 5}\""
   ]
  },
  {
   "cell_type": "markdown",
   "metadata": {},
   "source": [
    "* Caracteres Especiais (*Backslash*)"
   ]
  },
  {
   "cell_type": "markdown",
   "metadata": {},
   "source": [
    "Caracter Especial    | Descrição\n",
    ":---:                |:---:\n",
    "`\\a`                 | Bell\n",
    "`\\b`                 | Backspace\n",
    "`\\t`                 | Horizontal tab\n",
    "`\\n`                 | Line feed (New lines)\n",
    "`\\v`                 | Vertical tab\n",
    "`\\f`                 | Form feed\n",
    "`\\r`                 | Carriage return\n",
    "`\\e`                 | Command Escape\n",
    "`\\#`                 | Returns the # character itself, skipping interpolation\n",
    "`\\xNN`               | A byte represented by the hexadecimal NN\n",
    "`\\uNNNN`             | A Unicode code point represented by NNNN\n"
   ]
  },
  {
   "cell_type": "code",
   "execution_count": 46,
   "metadata": {},
   "outputs": [
    {
     "data": {
      "text/plain": [
       "\"\\t - atom: foo \\n \\t - integer: 10\""
      ]
     },
     "execution_count": 46,
     "metadata": {},
     "output_type": "execute_result"
    }
   ],
   "source": [
    "string_with_backslash = \"\\t - atom: #{:foo} \\n \\t - integer: #{10}\""
   ]
  },
  {
   "cell_type": "code",
   "execution_count": 47,
   "metadata": {},
   "outputs": [
    {
     "name": "stdout",
     "output_type": "stream",
     "text": [
      "\t - atom: foo \n",
      " \t - integer: 10\n"
     ]
    },
    {
     "data": {
      "text/plain": [
       ":ok"
      ]
     },
     "execution_count": 47,
     "metadata": {},
     "output_type": "execute_result"
    }
   ],
   "source": [
    "IO.puts(string_with_backslash)"
   ]
  },
  {
   "cell_type": "markdown",
   "metadata": {},
   "source": [
    "## 6. Tuple"
   ]
  },
  {
   "cell_type": "markdown",
   "metadata": {},
   "source": [
    "Lista elementos armazenados em memória de maneira contígua, com valor de alocação de memória pré-definida.\n",
    "\n",
    "As tuplas em Elixir, se assemelham as Tuplas em Python, dada a diferença que as Tuplas em Elixir, implementam protocolos de inserção e remoção de itens."
   ]
  },
  {
   "cell_type": "markdown",
   "metadata": {},
   "source": [
    "Tuple.append/2\n",
    "Tuple.delete_at/2\n",
    "Tuple.duplicate/2\n",
    "Tuple.insert_at/3\n",
    "Tuple.to_list/1"
   ]
  },
  {
   "cell_type": "markdown",
   "metadata": {},
   "source": [
    "Pelo fato das Tuplas em Elixir, armazenar os elementos de forma contígua em memória, cada chamada dos métodos acima, faz a criação de uma nova Tupla, com alocação de memória pré-definido."
   ]
  },
  {
   "cell_type": "code",
   "execution_count": 48,
   "metadata": {
    "scrolled": true
   },
   "outputs": [
    {
     "name": "stdout",
     "output_type": "stream",
     "text": [
      "Term\n",
      "  {0, 1, \"2\", :three, 4.0, Five, \"six\", 'seven', {:eight}}\n",
      "Data type\n",
      "  Tuple\n",
      "Reference modules\n",
      "  Tuple\n",
      "Implemented protocols\n",
      "  Ecto.DataType, Ecto.Queryable, IEx.Info, Inspect, Poison.Decoder, Poison.Encoder\n"
     ]
    }
   ],
   "source": [
    "i {0o000, 1, \"2\", :three, 4.0, Five, \"six\", 'seven', {:eight}}"
   ]
  },
  {
   "cell_type": "code",
   "execution_count": 49,
   "metadata": {},
   "outputs": [
    {
     "ename": "CompileError",
     "evalue": "1",
     "output_type": "error",
     "traceback": [
      "** (CompileError) console:1 \"undefined function var_tuple/0\""
     ]
    }
   ],
   "source": [
    "Kernel.elem(var_tuple, 0)"
   ]
  },
  {
   "cell_type": "code",
   "execution_count": 49,
   "metadata": {},
   "outputs": [
    {
     "ename": "CompileError",
     "evalue": "1",
     "output_type": "error",
     "traceback": [
      "** (CompileError) console:1 \"undefined function var_tuple/0\""
     ]
    }
   ],
   "source": [
    "Kernel.elem(var_tuple, 1)"
   ]
  },
  {
   "cell_type": "code",
   "execution_count": 49,
   "metadata": {},
   "outputs": [
    {
     "ename": "CompileError",
     "evalue": "1",
     "output_type": "error",
     "traceback": [
      "** (CompileError) console:1 \"undefined function var_tuple/0\""
     ]
    }
   ],
   "source": [
    "Kernel.elem(var_tuple, 2)"
   ]
  },
  {
   "cell_type": "code",
   "execution_count": 49,
   "metadata": {},
   "outputs": [
    {
     "ename": "CompileError",
     "evalue": "1",
     "output_type": "error",
     "traceback": [
      "** (CompileError) console:1 \"undefined function var_tuple/0\""
     ]
    }
   ],
   "source": [
    "Kernel.tuple_size(var_tuple)"
   ]
  },
  {
   "cell_type": "code",
   "execution_count": 49,
   "metadata": {},
   "outputs": [
    {
     "ename": "CompileError",
     "evalue": "1",
     "output_type": "error",
     "traceback": [
      "** (CompileError) console:1 \"undefined function var_tuple/0\""
     ]
    }
   ],
   "source": [
    "Kernel.put_elem(var_tuple, 2, \"intrusive #{:three}\")"
   ]
  },
  {
   "cell_type": "code",
   "execution_count": 49,
   "metadata": {},
   "outputs": [
    {
     "ename": "CompileError",
     "evalue": "1",
     "output_type": "error",
     "traceback": [
      "** (CompileError) console:1 \"undefined function var_tuple/0\""
     ]
    }
   ],
   "source": [
    "var_tuple"
   ]
  },
  {
   "cell_type": "code",
   "execution_count": 49,
   "metadata": {},
   "outputs": [
    {
     "ename": "CompileError",
     "evalue": "1",
     "output_type": "error",
     "traceback": [
      "** (CompileError) console:1 \"undefined function var_tuple/0\""
     ]
    }
   ],
   "source": [
    "Kernel.tuple_size(var_tuple)"
   ]
  },
  {
   "cell_type": "code",
   "execution_count": 49,
   "metadata": {},
   "outputs": [
    {
     "ename": "CompileError",
     "evalue": "1",
     "output_type": "error",
     "traceback": [
      "** (CompileError) console:1 \"undefined function var_tuple/0\""
     ]
    }
   ],
   "source": [
    "Tuple.append(var_tuple, 9)"
   ]
  },
  {
   "cell_type": "markdown",
   "metadata": {},
   "source": [
    "## 7. Listas "
   ]
  },
  {
   "cell_type": "markdown",
   "metadata": {},
   "source": [
    "Lista em Elixir, são listas encadeadas, em que cada elemento armazema a referência do elemento posterior. Possuem as seguintes características:\n",
    "\n",
    "- Suportam adição/remoção de elementos;\n",
    "- O uso de memória é dimensionado de acordo com o tamanho da lista. Quanto mais elementos a lista possui, mais memória ela requer;\n",
    "- Buscar elementos às vezes pode ser \"lento\"."
   ]
  },
  {
   "cell_type": "code",
   "execution_count": 49,
   "metadata": {},
   "outputs": [
    {
     "name": "stdout",
     "output_type": "stream",
     "text": [
      "Term\n",
      "  [1, 2, 3, \"carlos\", true, false]\n",
      "Data type\n",
      "  List\n",
      "Reference modules\n",
      "  List\n",
      "Implemented protocols\n",
      "  Collectable, Ecto.DataType, Enumerable, IEx.Info, Inspect, List.Chars, Poison.Decoder, Poison.Encoder, String.Chars\n"
     ]
    }
   ],
   "source": [
    "i var_list = [1, 2, 3, \"carlos\", true, false]"
   ]
  },
  {
   "cell_type": "code",
   "execution_count": 50,
   "metadata": {},
   "outputs": [
    {
     "name": "stdout",
     "output_type": "stream",
     "text": [
      "Term\n",
      "  1\n",
      "Data type\n",
      "  Integer\n",
      "Reference modules\n",
      "  Integer\n",
      "Implemented protocols\n",
      "  Ecto.DataType, IEx.Info, Inspect, List.Chars, Poison.Decoder, Poison.Encoder, String.Chars\n"
     ]
    }
   ],
   "source": [
    "i hd(var_list)"
   ]
  },
  {
   "cell_type": "code",
   "execution_count": 51,
   "metadata": {},
   "outputs": [
    {
     "name": "stdout",
     "output_type": "stream",
     "text": [
      "Term\n",
      "  [2, 3, \"carlos\", true, false]\n",
      "Data type\n",
      "  List\n",
      "Reference modules\n",
      "  List\n",
      "Implemented protocols\n",
      "  Collectable, Ecto.DataType, Enumerable, IEx.Info, Inspect, List.Chars, Poison.Decoder, Poison.Encoder, String.Chars\n"
     ]
    }
   ],
   "source": [
    "i tl(var_list)"
   ]
  },
  {
   "cell_type": "code",
   "execution_count": 52,
   "metadata": {},
   "outputs": [
    {
     "name": "stdout",
     "output_type": "stream",
     "text": [
      "Term\n",
      "  'carlos'\n",
      "Data type\n",
      "  List\n",
      "Description\n",
      "  This is a list of integers that is printed as a sequence of characters\n",
      "  delimited by single quotes because all the integers in it represent printable\n",
      "  ASCII characters. Conventionally, a list of Unicode code points is known as a\n",
      "  charlist and a list of ASCII characters is a subset of it.\n",
      "Raw representation\n",
      "  [99, 97, 114, 108, 111, 115]\n",
      "Reference modules\n",
      "  List\n",
      "Implemented protocols\n",
      "  Collectable, Ecto.DataType, Enumerable, IEx.Info, Inspect, List.Chars, Poison.Decoder, Poison.Encoder, String.Chars\n"
     ]
    }
   ],
   "source": [
    "i 'carlos'"
   ]
  },
  {
   "cell_type": "markdown",
   "metadata": {},
   "source": [
    "### 7.1. Operações Aritméticas Simples"
   ]
  },
  {
   "cell_type": "code",
   "execution_count": 53,
   "metadata": {},
   "outputs": [
    {
     "data": {
      "text/plain": [
       "[1.0, 2]"
      ]
     },
     "execution_count": 53,
     "metadata": {},
     "output_type": "execute_result"
    }
   ],
   "source": [
    "[1, 1.0, 2, true] -- [1, :true]"
   ]
  },
  {
   "cell_type": "code",
   "execution_count": 54,
   "metadata": {},
   "outputs": [
    {
     "data": {
      "text/plain": [
       "[1, 2]"
      ]
     },
     "execution_count": 54,
     "metadata": {},
     "output_type": "execute_result"
    }
   ],
   "source": [
    "[1, 1, 2, true] -- [1, :true]"
   ]
  },
  {
   "cell_type": "code",
   "execution_count": 55,
   "metadata": {},
   "outputs": [
    {
     "data": {
      "text/plain": [
       "[1, 2]"
      ]
     },
     "execution_count": 55,
     "metadata": {},
     "output_type": "execute_result"
    }
   ],
   "source": [
    "[1] ++ [2]"
   ]
  }
 ],
 "metadata": {
  "kernelspec": {
   "display_name": "Elixir",
   "language": "Elixir",
   "name": "ielixir"
  },
  "language_info": {
   "codemirror_mode": "elixir",
   "file_extension": "ex",
   "mimetype": "text/x-elixir",
   "name": "elixir",
   "nbconvert_exporter": "",
   "pygments_lexer": "elixir",
   "version": "1.11.2"
  }
 },
 "nbformat": 4,
 "nbformat_minor": 2
}
